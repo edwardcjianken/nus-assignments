{
  "nbformat": 4,
  "nbformat_minor": 0,
  "metadata": {
    "colab": {
      "provenance": []
    },
    "kernelspec": {
      "name": "python3",
      "display_name": "Python 3"
    },
    "language_info": {
      "name": "python"
    }
  },
  "cells": [
    {
      "cell_type": "code",
      "metadata": {
        "colab": {
          "base_uri": "https://localhost:8080/"
        },
        "id": "kuzTFbwJJ3pR",
        "outputId": "a5f1e52e-2c34-444b-98cb-1e7fe8168382"
      },
      "source": [
        "# Importing the Keras main module forcing tensorflow 1.x backend\n",
        "import tensorflow as tf\n",
        "import keras\n",
        "import numpy as np\n",
        "import matplotlib.pyplot as plt\n",
        "from keras.datasets import mnist\n",
        "from tensorflow.keras.utils import to_categorical\n",
        "from keras import optimizers\n",
        "from keras.models import Sequential\n",
        "from keras.layers import Dense, Activation, Flatten\n",
        "\n",
        "print(\"Using tensorflow version \" + str(tf.__version__))\n",
        "print(\"Using keras version \" + str(keras.__version__))"
      ],
      "execution_count": null,
      "outputs": [
        {
          "output_type": "stream",
          "name": "stdout",
          "text": [
            "Using tensorflow version 2.19.0\n",
            "Using keras version 3.10.0\n"
          ]
        }
      ]
    },
    {
      "cell_type": "markdown",
      "metadata": {
        "id": "qynNtMOXKRrx"
      },
      "source": [
        "# Programming Assignment: MNIST Digit Classification with Keras\n",
        "\n",
        "**Objective:**\n",
        "\n",
        "The objective of the assignment is to preprocess a dataset, then create and train a Neural Network to predict the correct label for said dataset. After completing this assignment, you should be familiar with the following:\n",
        "\n",
        "* How to load a Keras dataset?\n",
        "\n",
        "* How to one-hot encode the labels?\n",
        "\n",
        "* How to reshape the dataset?\n",
        "\n",
        "* How to normalize the dataset for better results?\n",
        "\n",
        "* How to create and train a Neural Network?\n",
        "\n",
        "* How to evaluate the results of the NN?\n",
        "\n",
        "The dataset used is a MNIST dataset that we will load during the assignment. The MNIST dataset is a dataset composed of 60,000 28x28 grayscale training images of the 10 handwritten digits, along with a test set of 10,000 images.\n",
        "\n",
        "**Deliverables:**\n",
        "\n",
        "*   This colab notebook with python codes\n",
        "\n",
        "Total Marks: 30\n",
        "---\n"
      ]
    },
    {
      "cell_type": "markdown",
      "metadata": {
        "id": "aZYw4DbuMEpz"
      },
      "source": [
        "##**Q1. Loading the dataset**\n",
        "* Load the MNIST dataset (Hint: see https://www.tensorflow.org/api_docs/python/tf/keras/datasets/mnist/load_data)\n",
        "* Separate the training data and labels, as well as test data and labels."
      ]
    },
    {
      "cell_type": "code",
      "metadata": {
        "id": "L7eDL4bALx9C"
      },
      "source": [
        "x_train, y_train, x_test, y_test = None, None, None, None\n",
        "\n",
        "# START CODE HERE\n",
        "(x_train, y_train), (x_test, y_test) = mnist.load_data()\n",
        "\n",
        "# END CODE HERE"
      ],
      "execution_count": null,
      "outputs": []
    },
    {
      "cell_type": "markdown",
      "metadata": {
        "id": "X2kEIenkNboh"
      },
      "source": [
        "When you run this code, you should get the expected output as shown below:\n"
      ]
    },
    {
      "cell_type": "code",
      "metadata": {
        "colab": {
          "base_uri": "https://localhost:8080/"
        },
        "id": "VTL_8LsHQFvR",
        "outputId": "59a0fd64-23a6-4032-9380-cbd2eff8871a"
      },
      "source": [
        "print(\"Length of training set: \", len(x_train))\n",
        "print(\"Length of testing set: \", len(x_test))"
      ],
      "execution_count": null,
      "outputs": [
        {
          "output_type": "stream",
          "name": "stdout",
          "text": [
            "Length of training set:  60000\n",
            "Length of testing set:  10000\n"
          ]
        }
      ]
    },
    {
      "cell_type": "markdown",
      "metadata": {
        "id": "E2RT9HHkNpT0"
      },
      "source": [
        "Expected output :\n",
        "\n",
        "```\n",
        "Length of training set:  60000\n",
        "Length of testing set:  10000\n",
        "```\n",
        "\n",
        "\n"
      ]
    },
    {
      "cell_type": "markdown",
      "metadata": {
        "id": "ZvURFnXUQRGw"
      },
      "source": [
        "And if you run this cell, the number shown should be a $5$."
      ]
    },
    {
      "cell_type": "code",
      "metadata": {
        "colab": {
          "base_uri": "https://localhost:8080/",
          "height": 430
        },
        "id": "hIEwevCnQWJ6",
        "outputId": "b17ec7fa-3e74-473b-ebe2-c970fedbad7c"
      },
      "source": [
        "plt.imshow(x_train[0])\n",
        "plt.show()"
      ],
      "execution_count": null,
      "outputs": [
        {
          "output_type": "display_data",
          "data": {
            "text/plain": [
              "<Figure size 640x480 with 1 Axes>"
            ],
            "image/png": "[encoded data removed]"
          },
          "metadata": {}
        }
      ]
    },
    {
      "cell_type": "markdown",
      "metadata": {
        "id": "sf4fr5f6LOyo"
      },
      "source": [
        "## **Q2. One-hot encoding of the dataset**\n",
        "The database contains images of handwritten digits. Hence, they belong to one of 10 categories, 0 to 9, depending on the digit they represent.\n",
        "However, to be able to exploit more easily the dataset, we want the true labels to be computed in the same format. Thus, we will do **one-hot encoding**. It means that if for example, an image represents the digit $7\n",
        "$, then the one-hot encoded label will be :\n",
        "\n",
        "$$ \\mathbf{y} = [0, 0, 0, 0, 0, 0, 0, 1, 0, 0] $$\n",
        "\n",
        "Here, you need to turn train and test labels to one-hot encoding."
      ]
    },
    {
      "cell_type": "code",
      "metadata": {
        "id": "wtNnd9d8S4Tb"
      },
      "source": [
        "#START CODE HERE\n",
        "y_encoded_train = to_categorical(y_train, 10)\n",
        "y_encoded_test = to_categorical(y_test, 10)\n",
        "#END CODE HERE"
      ],
      "execution_count": null,
      "outputs": []
    },
    {
      "cell_type": "markdown",
      "metadata": {
        "id": "JL0wrsNtuC5K"
      },
      "source": [
        "When you run this code, you should get the expected output as shown below:\n"
      ]
    },
    {
      "cell_type": "code",
      "metadata": {
        "colab": {
          "base_uri": "https://localhost:8080/"
        },
        "id": "J1euQRQ_trsa",
        "outputId": "3fd35385-16d2-403c-846a-28e1ba15fd05"
      },
      "source": [
        "\n",
        "\n",
        "print(\"{} becomes {}\".format(y_train[3],y_encoded_train[3]))\n",
        "print(\"{} becomes {}\".format(y_test[45],y_encoded_test[45]))"
      ],
      "execution_count": null,
      "outputs": [
        {
          "output_type": "stream",
          "name": "stdout",
          "text": [
            "1 becomes [0. 1. 0. 0. 0. 0. 0. 0. 0. 0.]\n",
            "5 becomes [0. 0. 0. 0. 0. 1. 0. 0. 0. 0.]\n"
          ]
        }
      ]
    },
    {
      "cell_type": "markdown",
      "metadata": {
        "id": "QpkR03fBuD6V"
      },
      "source": [
        "Expected output :\n",
        "\n",
        "```\n",
        "1 becomes [0. 1. 0. 0. 0. 0. 0. 0. 0. 0.]\n",
        "5 becomes [0. 0. 0. 0. 0. 1. 0. 0. 0. 0.]\n",
        "```\n",
        "\n"
      ]
    },
    {
      "cell_type": "markdown",
      "metadata": {
        "id": "W-oWZVhrSNlv"
      },
      "source": [
        "## **Q3. Reshape the data**\n",
        "\n",
        "The images are black and white of size $28 \\times 28$. We want to work with simple classification model, so we need to transform the array of the images from size $(28 \\times 28)$ to $(784)$.\n",
        "You should then transform the images to the size $(784)$ in the function `reshape_x`. You can use the numpy function ```np.reshape``` in your own function."
      ]
    },
    {
      "cell_type": "code",
      "metadata": {
        "id": "M7TN-Li8S4-d"
      },
      "source": [
        "def reshape_x(x):\n",
        "\n",
        "  # START CODE HERE\n",
        "\n",
        "  x_reshape = x.reshape(x.shape[0], -1)\n",
        "\n",
        "\n",
        "  # END CODE HERE\n",
        "\n",
        "  return x_reshape"
      ],
      "execution_count": null,
      "outputs": []
    },
    {
      "cell_type": "markdown",
      "metadata": {
        "id": "sH4HofXwVCsT"
      },
      "source": [
        "When you run this code, you should get the expected output as shown below:\n"
      ]
    },
    {
      "cell_type": "code",
      "metadata": {
        "colab": {
          "base_uri": "https://localhost:8080/"
        },
        "id": "MWc1HuPGVDPH",
        "outputId": "f45c2342-0a6d-43eb-ca95-51f6e9176e4a"
      },
      "source": [
        "x_train_reshape = reshape_x(x_train)\n",
        "x_test_reshape = reshape_x(x_test)\n",
        "\n",
        "print(\"Length of new training set images: \", len(x_train_reshape[0]))\n",
        "print(\"Length of new testing set images: \", len(x_test_reshape[0]))"
      ],
      "execution_count": null,
      "outputs": [
        {
          "output_type": "stream",
          "name": "stdout",
          "text": [
            "Length of new training set images:  784\n",
            "Length of new testing set images:  784\n"
          ]
        }
      ]
    },
    {
      "cell_type": "markdown",
      "metadata": {
        "id": "36g8FqHpQAci"
      },
      "source": [
        "Expected output :\n",
        "\n",
        "```\n",
        "Length of new training set images:  784\n",
        "Length of new testing set images:  784\n",
        "\n",
        "```\n",
        "\n"
      ]
    },
    {
      "cell_type": "markdown",
      "metadata": {
        "id": "1SPPXqUYLJmN"
      },
      "source": [
        "##**Q4. Feature Scaling**\n",
        "\n",
        "In the lab, we have seen standardization, where data is scaled to have a mean of 0 and a standard deviation of 1. In this task, we will explore another feature scaling technique — min-max scaling, which rescales the pixel values to be between 0 and 1. You will use the `MinMaxScaler` from the `sklearn.preprocessing` module to achieve this.\n"
      ]
    },
    {
      "cell_type": "code",
      "metadata": {
        "id": "eSdVALMUK4w5"
      },
      "source": [
        "from sklearn.preprocessing import MinMaxScaler\n",
        "# START CODE HERE\n",
        "\n",
        "scaler = MinMaxScaler()\n",
        "\n",
        "x_train_norm = scaler.fit_transform(x_train_reshape)\n",
        "x_test_norm = scaler.transform(x_test_reshape)\n",
        "\n",
        "# END CODE HERE"
      ],
      "execution_count": null,
      "outputs": []
    },
    {
      "cell_type": "markdown",
      "metadata": {
        "id": "v50NBnA_x4M0"
      },
      "source": [
        "When you run this code, you should get the expected output as shown below:"
      ]
    },
    {
      "cell_type": "code",
      "metadata": {
        "colab": {
          "base_uri": "https://localhost:8080/"
        },
        "id": "zTnMILN7Rndl",
        "outputId": "5b3c636c-6650-41b6-b571-f3ce2e787c63"
      },
      "source": [
        "print(x_train_norm[1][131], x_train_norm[1][129])"
      ],
      "execution_count": null,
      "outputs": [
        {
          "output_type": "stream",
          "name": "stdout",
          "text": [
            "0.19607843137254902 0.9921568627450981\n"
          ]
        }
      ]
    },
    {
      "cell_type": "markdown",
      "metadata": {
        "id": "nmmY8Jksxy00"
      },
      "source": [
        "Expected output :\n",
        "\n",
        "```\n",
        "0.19607843137254902 0.9921568627450981\n",
        "\n",
        "```\n",
        "\n"
      ]
    },
    {
      "cell_type": "markdown",
      "metadata": {
        "id": "sCaIUDThy-ZQ"
      },
      "source": [
        "##**Q5. Create a simple Neural Network with Keras**\n",
        "\n",
        "In this question, you are required to build a simple Neural Network using the Sequential model in Keras with the following configuration:\n",
        "*\tInput Layer: Not explicitly defined, but specified using input_dim=input_shape in the first Dense layer.\n",
        "*\tHidden Layer: A single hidden layer with input_shape neurons and sigmoid activation function.\n",
        "*\tOutput Layer: A final layer with softmax activation, which is suitable for multi-class classification tasks.\n"
      ]
    },
    {
      "cell_type": "code",
      "metadata": {
        "id": "9gkdtmNHvrEC",
        "colab": {
          "base_uri": "https://localhost:8080/"
        },
        "outputId": "bdb122e0-40a9-4198-cb61-d32aa536c462"
      },
      "source": [
        "# START CODE HERE\n",
        "\n",
        "model = Sequential()\n",
        "\n",
        "model.add(Dense(300, input_dim=784))\n",
        "model.add(Activation('sigmoid'))\n",
        "model.add(Dense(10))\n",
        "model.add(Activation('softmax'))\n",
        "\n",
        "# END CODE HERE"
      ],
      "execution_count": null,
      "outputs": [
        {
          "output_type": "stream",
          "name": "stderr",
          "text": [
            "/usr/local/lib/python3.12/dist-packages/keras/src/layers/core/dense.py:93: UserWarning: Do not pass an `input_shape`/`input_dim` argument to a layer. When using Sequential models, prefer using an `Input(shape)` object as the first layer in the model instead.\n",
            "  super().__init__(activity_regularizer=activity_regularizer, **kwargs)\n"
          ]
        }
      ]
    },
    {
      "cell_type": "markdown",
      "metadata": {
        "id": "S-KkQfnF0ztv"
      },
      "source": [
        "When you run this code, you should get the expected output as shown below:"
      ]
    },
    {
      "cell_type": "code",
      "metadata": {
        "id": "f89bGphuzVtx",
        "colab": {
          "base_uri": "https://localhost:8080/",
          "height": 257
        },
        "outputId": "010296df-00f9-45af-f384-61198e86f266"
      },
      "source": [
        "model.summary()"
      ],
      "execution_count": null,
      "outputs": [
        {
          "output_type": "display_data",
          "data": {
            "text/plain": [
              "\u001b[1mModel: \"sequential_1\"\u001b[0m\n"
            ],
            "text/html": [
              "<pre style=\"white-space:pre;overflow-x:auto;line-height:normal;font-family:Menlo,'DejaVu Sans Mono',consolas,'Courier New',monospace\"><span style=\"font-weight: bold\">Model: \"sequential_1\"</span>\n",
              "</pre>\n"
            ]
          },
          "metadata": {}
        },
        {
          "output_type": "display_data",
          "data": {
            "text/plain": [
              "┏━━━━━━━━━━━━━━━━━━━━━━━━━━━━━━━━━┳━━━━━━━━━━━━━━━━━━━━━━━━┳━━━━━━━━━━━━━━━┓\n",
              "┃\u001b[1m \u001b[0m\u001b[1mLayer (type)                   \u001b[0m\u001b[1m \u001b[0m┃\u001b[1m \u001b[0m\u001b[1mOutput Shape          \u001b[0m\u001b[1m \u001b[0m┃\u001b[1m \u001b[0m\u001b[1m      Param #\u001b[0m\u001b[1m \u001b[0m┃\n",
              "┡━━━━━━━━━━━━━━━━━━━━━━━━━━━━━━━━━╇━━━━━━━━━━━━━━━━━━━━━━━━╇━━━━━━━━━━━━━━━┩\n",
              "│ dense_2 (\u001b[38;5;33mDense\u001b[0m)                 │ (\u001b[38;5;45mNone\u001b[0m, \u001b[38;5;34m300\u001b[0m)            │       \u001b[38;5;34m235,500\u001b[0m │\n",
              "├─────────────────────────────────┼────────────────────────┼───────────────┤\n",
              "│ activation_2 (\u001b[38;5;33mActivation\u001b[0m)       │ (\u001b[38;5;45mNone\u001b[0m, \u001b[38;5;34m300\u001b[0m)            │             \u001b[38;5;34m0\u001b[0m │\n",
              "├─────────────────────────────────┼────────────────────────┼───────────────┤\n",
              "│ dense_3 (\u001b[38;5;33mDense\u001b[0m)                 │ (\u001b[38;5;45mNone\u001b[0m, \u001b[38;5;34m10\u001b[0m)             │         \u001b[38;5;34m3,010\u001b[0m │\n",
              "├─────────────────────────────────┼────────────────────────┼───────────────┤\n",
              "│ activation_3 (\u001b[38;5;33mActivation\u001b[0m)       │ (\u001b[38;5;45mNone\u001b[0m, \u001b[38;5;34m10\u001b[0m)             │             \u001b[38;5;34m0\u001b[0m │\n",
              "└─────────────────────────────────┴────────────────────────┴───────────────┘\n"
            ],
            "text/html": [
              "<pre style=\"white-space:pre;overflow-x:auto;line-height:normal;font-family:Menlo,'DejaVu Sans Mono',consolas,'Courier New',monospace\">┏━━━━━━━━━━━━━━━━━━━━━━━━━━━━━━━━━┳━━━━━━━━━━━━━━━━━━━━━━━━┳━━━━━━━━━━━━━━━┓\n",
              "┃<span style=\"font-weight: bold\"> Layer (type)                    </span>┃<span style=\"font-weight: bold\"> Output Shape           </span>┃<span style=\"font-weight: bold\">       Param # </span>┃\n",
              "┡━━━━━━━━━━━━━━━━━━━━━━━━━━━━━━━━━╇━━━━━━━━━━━━━━━━━━━━━━━━╇━━━━━━━━━━━━━━━┩\n",
              "│ dense_2 (<span style=\"color: #0087ff; text-decoration-color: #0087ff\">Dense</span>)                 │ (<span style=\"color: #00d7ff; text-decoration-color: #00d7ff\">None</span>, <span style=\"color: #00af00; text-decoration-color: #00af00\">300</span>)            │       <span style=\"color: #00af00; text-decoration-color: #00af00\">235,500</span> │\n",
              "├─────────────────────────────────┼────────────────────────┼───────────────┤\n",
              "│ activation_2 (<span style=\"color: #0087ff; text-decoration-color: #0087ff\">Activation</span>)       │ (<span style=\"color: #00d7ff; text-decoration-color: #00d7ff\">None</span>, <span style=\"color: #00af00; text-decoration-color: #00af00\">300</span>)            │             <span style=\"color: #00af00; text-decoration-color: #00af00\">0</span> │\n",
              "├─────────────────────────────────┼────────────────────────┼───────────────┤\n",
              "│ dense_3 (<span style=\"color: #0087ff; text-decoration-color: #0087ff\">Dense</span>)                 │ (<span style=\"color: #00d7ff; text-decoration-color: #00d7ff\">None</span>, <span style=\"color: #00af00; text-decoration-color: #00af00\">10</span>)             │         <span style=\"color: #00af00; text-decoration-color: #00af00\">3,010</span> │\n",
              "├─────────────────────────────────┼────────────────────────┼───────────────┤\n",
              "│ activation_3 (<span style=\"color: #0087ff; text-decoration-color: #0087ff\">Activation</span>)       │ (<span style=\"color: #00d7ff; text-decoration-color: #00d7ff\">None</span>, <span style=\"color: #00af00; text-decoration-color: #00af00\">10</span>)             │             <span style=\"color: #00af00; text-decoration-color: #00af00\">0</span> │\n",
              "└─────────────────────────────────┴────────────────────────┴───────────────┘\n",
              "</pre>\n"
            ]
          },
          "metadata": {}
        },
        {
          "output_type": "display_data",
          "data": {
            "text/plain": [
              "\u001b[1m Total params: \u001b[0m\u001b[38;5;34m238,510\u001b[0m (931.68 KB)\n"
            ],
            "text/html": [
              "<pre style=\"white-space:pre;overflow-x:auto;line-height:normal;font-family:Menlo,'DejaVu Sans Mono',consolas,'Courier New',monospace\"><span style=\"font-weight: bold\"> Total params: </span><span style=\"color: #00af00; text-decoration-color: #00af00\">238,510</span> (931.68 KB)\n",
              "</pre>\n"
            ]
          },
          "metadata": {}
        },
        {
          "output_type": "display_data",
          "data": {
            "text/plain": [
              "\u001b[1m Trainable params: \u001b[0m\u001b[38;5;34m238,510\u001b[0m (931.68 KB)\n"
            ],
            "text/html": [
              "<pre style=\"white-space:pre;overflow-x:auto;line-height:normal;font-family:Menlo,'DejaVu Sans Mono',consolas,'Courier New',monospace\"><span style=\"font-weight: bold\"> Trainable params: </span><span style=\"color: #00af00; text-decoration-color: #00af00\">238,510</span> (931.68 KB)\n",
              "</pre>\n"
            ]
          },
          "metadata": {}
        },
        {
          "output_type": "display_data",
          "data": {
            "text/plain": [
              "\u001b[1m Non-trainable params: \u001b[0m\u001b[38;5;34m0\u001b[0m (0.00 B)\n"
            ],
            "text/html": [
              "<pre style=\"white-space:pre;overflow-x:auto;line-height:normal;font-family:Menlo,'DejaVu Sans Mono',consolas,'Courier New',monospace\"><span style=\"font-weight: bold\"> Non-trainable params: </span><span style=\"color: #00af00; text-decoration-color: #00af00\">0</span> (0.00 B)\n",
              "</pre>\n"
            ]
          },
          "metadata": {}
        }
      ]
    },
    {
      "cell_type": "markdown",
      "metadata": {
        "id": "bi875UoI0pet"
      },
      "source": [
        "Expected output :\n",
        "\n",
        "```\n",
        "Model: \"sequential\"\n",
        "┏━━━━━━━━━━━━━━━━━━━━━━━━━━━━━━━━━━━━━━┳━━━━━━━━━━━━━━━━━━━━━━━━━━━━━┳━━━━━━━━━━━━━━━━━┓\n",
        "┃ Layer (type)                         ┃ Output Shape                ┃         Param # ┃\n",
        "┡━━━━━━━━━━━━━━━━━━━━━━━━━━━━━━━━━━━━━━╇━━━━━━━━━━━━━━━━━━━━━━━━━━━━━╇━━━━━━━━━━━━━━━━━┩\n",
        "│ dense (Dense)                        │ (None, 300)                 │         235,500 │\n",
        "├──────────────────────────────────────┼─────────────────────────────┼─────────────────┤\n",
        "│ activation (Activation)              │ (None, 300)                 │               0 │\n",
        "├──────────────────────────────────────┼─────────────────────────────┼─────────────────┤\n",
        "│ dense_1 (Dense)                      │ (None, 10)                  │           3,010 │\n",
        "├──────────────────────────────────────┼─────────────────────────────┼─────────────────┤\n",
        "│ activation_1 (Activation)            │ (None, 10)                  │               0 │\n",
        "└──────────────────────────────────────┴─────────────────────────────┴─────────────────┘\n",
        " Total params: 238,510 (931.68 KB)\n",
        " Trainable params: 238,510 (931.68 KB)\n",
        " Non-trainable params: 0 (0.00 B)\n",
        "```\n",
        "\n"
      ]
    },
    {
      "cell_type": "markdown",
      "metadata": {
        "id": "MHN8xpciztuk"
      },
      "source": [
        "##**Q6. Training the network**\n",
        "\n",
        "We chose a SGD optimizer with learning rate $0.01$, and then compiled the model.\n",
        "\n",
        "Now, you can train the model on 10 epochs. Don't forget to store your values for training loss/accuracy and test lost/accuracy in some way!"
      ]
    },
    {
      "cell_type": "code",
      "metadata": {
        "id": "vIeow_5L16Lz",
        "colab": {
          "base_uri": "https://localhost:8080/"
        },
        "outputId": "07b90450-77a7-4134-c91e-d26cac52a0e1"
      },
      "source": [
        "opt = tf.optimizers.SGD(learning_rate=0.01)\n",
        "model.compile(loss='categorical_crossentropy', optimizer=opt, metrics=['accuracy'])\n",
        "\n",
        "# START CODE HERE\n",
        "# Compile model\n",
        "opt = tf.optimizers.SGD(learning_rate=0.01)\n",
        "model.compile(loss='categorical_crossentropy', optimizer=opt, metrics=['accuracy'])\n",
        "\n",
        "# Train model\n",
        "history = model.fit(x_train_norm, y_encoded_train, epochs=10, batch_size=32, validation_data=(x_test_norm, y_encoded_test))\n",
        "\n",
        "\n",
        "# END CODE HERE"
      ],
      "execution_count": null,
      "outputs": [
        {
          "output_type": "stream",
          "name": "stdout",
          "text": [
            "Epoch 1/10\n",
            "\u001b[1m1875/1875\u001b[0m \u001b[32m━━━━━━━━━━━━━━━━━━━━\u001b[0m\u001b[37m\u001b[0m \u001b[1m10s\u001b[0m 5ms/step - accuracy: 0.5635 - loss: 1.7548 - val_accuracy: 0.8426 - val_loss: 0.7782\n",
            "Epoch 2/10\n",
            "\u001b[1m1875/1875\u001b[0m \u001b[32m━━━━━━━━━━━━━━━━━━━━\u001b[0m\u001b[37m\u001b[0m \u001b[1m10s\u001b[0m 5ms/step - accuracy: 0.8455 - loss: 0.7088 - val_accuracy: 0.8769 - val_loss: 0.5204\n",
            "Epoch 3/10\n",
            "\u001b[1m1875/1875\u001b[0m \u001b[32m━━━━━━━━━━━━━━━━━━━━\u001b[0m\u001b[37m\u001b[0m \u001b[1m8s\u001b[0m 5ms/step - accuracy: 0.8713 - loss: 0.5152 - val_accuracy: 0.8887 - val_loss: 0.4344\n",
            "Epoch 4/10\n",
            "\u001b[1m1875/1875\u001b[0m \u001b[32m━━━━━━━━━━━━━━━━━━━━\u001b[0m\u001b[37m\u001b[0m \u001b[1m11s\u001b[0m 5ms/step - accuracy: 0.8818 - loss: 0.4420 - val_accuracy: 0.8960 - val_loss: 0.3902\n",
            "Epoch 5/10\n",
            "\u001b[1m1875/1875\u001b[0m \u001b[32m━━━━━━━━━━━━━━━━━━━━\u001b[0m\u001b[37m\u001b[0m \u001b[1m9s\u001b[0m 5ms/step - accuracy: 0.8908 - loss: 0.3987 - val_accuracy: 0.8995 - val_loss: 0.3638\n",
            "Epoch 6/10\n",
            "\u001b[1m1875/1875\u001b[0m \u001b[32m━━━━━━━━━━━━━━━━━━━━\u001b[0m\u001b[37m\u001b[0m \u001b[1m10s\u001b[0m 5ms/step - accuracy: 0.8954 - loss: 0.3740 - val_accuracy: 0.9019 - val_loss: 0.3478\n",
            "Epoch 7/10\n",
            "\u001b[1m1875/1875\u001b[0m \u001b[32m━━━━━━━━━━━━━━━━━━━━\u001b[0m\u001b[37m\u001b[0m \u001b[1m11s\u001b[0m 5ms/step - accuracy: 0.8997 - loss: 0.3595 - val_accuracy: 0.9073 - val_loss: 0.3346\n",
            "Epoch 8/10\n",
            "\u001b[1m1875/1875\u001b[0m \u001b[32m━━━━━━━━━━━━━━━━━━━━\u001b[0m\u001b[37m\u001b[0m \u001b[1m8s\u001b[0m 4ms/step - accuracy: 0.9007 - loss: 0.3490 - val_accuracy: 0.9099 - val_loss: 0.3227\n",
            "Epoch 9/10\n",
            "\u001b[1m1875/1875\u001b[0m \u001b[32m━━━━━━━━━━━━━━━━━━━━\u001b[0m\u001b[37m\u001b[0m \u001b[1m10s\u001b[0m 4ms/step - accuracy: 0.9040 - loss: 0.3379 - val_accuracy: 0.9115 - val_loss: 0.3155\n",
            "Epoch 10/10\n",
            "\u001b[1m1875/1875\u001b[0m \u001b[32m━━━━━━━━━━━━━━━━━━━━\u001b[0m\u001b[37m\u001b[0m \u001b[1m9s\u001b[0m 5ms/step - accuracy: 0.9051 - loss: 0.3320 - val_accuracy: 0.9128 - val_loss: 0.3084\n"
          ]
        }
      ]
    },
    {
      "cell_type": "markdown",
      "metadata": {
        "id": "qUoJqTrqOaBF"
      },
      "source": [
        "##**Q7. Plot loss and accuracy functions**\n",
        "\n",
        "Now that you have stored the loss and accuracy for both the training set and the validation set, you can plot them. Please make two plots :\n",
        "* One with loss for training and validation set\n",
        "* One with accuracy for training and validation set\n",
        "\n",
        "Hint: When you train a model using Keras, the fit() function returns a `history` object. This object stores the values of loss and accuracy for both training and validation across epochs.\n"
      ]
    },
    {
      "cell_type": "code",
      "metadata": {
        "id": "WI0xUNUmz8Gt",
        "colab": {
          "base_uri": "https://localhost:8080/",
          "height": 962
        },
        "outputId": "f7049949-600c-4106-f59e-d53df9ee80f9"
      },
      "source": [
        "# History for loss\n",
        "\n",
        "# START CODE HERE\n",
        "# Plot training & validation loss values\n",
        "plt.plot(history.history['loss'], label='Training Loss')\n",
        "plt.plot(history.history['val_loss'], label='Validation Loss')\n",
        "plt.title('Model Loss')\n",
        "plt.ylabel('Loss')\n",
        "plt.xlabel('Epoch')\n",
        "plt.legend(loc='upper right')\n",
        "\n",
        "# END CODE HERE\n",
        "\n",
        "plt.show()\n",
        "print('\\n')\n",
        "\n",
        "# History for accuracy\n",
        "\n",
        "# START CODE HERE\n",
        "# Plot training & validation accuracy values\n",
        "plt.plot(history.history['accuracy'], label='Training Accuracy')\n",
        "plt.plot(history.history['val_accuracy'], label='Validation Accuracy')\n",
        "plt.title('Model Accuracy')\n",
        "plt.ylabel('Accuracy')\n",
        "plt.xlabel('Epoch')\n",
        "plt.legend(loc='lower right')\n",
        "# END CODE HERE\n",
        "\n",
        "plt.show()\n"
      ],
      "execution_count": null,
      "outputs": [
        {
          "output_type": "display_data",
          "data": {
            "text/plain": [
              "<Figure size 640x480 with 1 Axes>"
            ],
            "image/png": "[encoded data removed]"
          },
          "metadata": {}
        },
        {
          "output_type": "stream",
          "name": "stdout",
          "text": [
            "\n",
            "\n"
          ]
        },
        {
          "output_type": "display_data",
          "data": {
            "text/plain": [
              "<Figure size 640x480 with 1 Axes>"
            ],
            "image/png": "[encoded data removed]"
          },
          "metadata": {}
        }
      ]
    },
    {
      "cell_type": "markdown",
      "metadata": {
        "id": "CeRcYKtATI4Y"
      },
      "source": [
        "##**Q8. Check the predictions of your model**\n",
        "\n",
        "This question is only to see what your model predicts, and if this is correct. No need to implement here, just run the cell and check your results!"
      ]
    },
    {
      "cell_type": "code",
      "metadata": {
        "colab": {
          "base_uri": "https://localhost:8080/",
          "height": 465
        },
        "id": "HJOZYGZrTggX",
        "outputId": "c6d8bacc-4636-47a4-cb97-5ca1d0f2aa16"
      },
      "source": [
        "plt.imshow(x_test[0])\n",
        "print(\"According to your model, the handwritten number shown is {}.\".format(np.argmax(model.predict(x_test_reshape)[0])))"
      ],
      "execution_count": null,
      "outputs": [
        {
          "output_type": "stream",
          "name": "stdout",
          "text": [
            "\u001b[1m313/313\u001b[0m \u001b[32m━━━━━━━━━━━━━━━━━━━━\u001b[0m\u001b[37m\u001b[0m \u001b[1m1s\u001b[0m 2ms/step\n",
            "According to your model, the handwritten number shown is 7.\n"
          ]
        },
        {
          "output_type": "display_data",
          "data": {
            "text/plain": [
              "<Figure size 640x480 with 1 Axes>"
            ],
            "image/png": "[encoded data removed]"
          },
          "metadata": {}
        }
      ]
    },
    {
      "cell_type": "code",
      "metadata": {
        "colab": {
          "base_uri": "https://localhost:8080/",
          "height": 465
        },
        "id": "0wmNUYQKTpPS",
        "outputId": "d40882b1-2767-403c-93bb-5ac9b6593df5"
      },
      "source": [
        "plt.imshow(x_test[587])\n",
        "print(\"According to your model, the handwritten number shown is {}.\".format(np.argmax(model.predict(x_test_reshape)[587])))"
      ],
      "execution_count": null,
      "outputs": [
        {
          "output_type": "stream",
          "name": "stdout",
          "text": [
            "\u001b[1m313/313\u001b[0m \u001b[32m━━━━━━━━━━━━━━━━━━━━\u001b[0m\u001b[37m\u001b[0m \u001b[1m1s\u001b[0m 2ms/step\n",
            "According to your model, the handwritten number shown is 6.\n"
          ]
        },
        {
          "output_type": "display_data",
          "data": {
            "text/plain": [
              "<Figure size 640x480 with 1 Axes>"
            ],
            "image/png": "[encoded data removed]"
          },
          "metadata": {}
        }
      ]
    },
    {
      "cell_type": "markdown",
      "metadata": {
        "id": "-REnvAChUdcq"
      },
      "source": [
        "\n",
        "\n",
        "---\n",
        "\n",
        "\n",
        "# End of your Assignment"
      ]
    }
  ]
}